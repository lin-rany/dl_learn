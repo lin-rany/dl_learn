{
 "cells": [
  {
   "cell_type": "markdown",
   "metadata": {},
   "source": [
    "## 如何替换ssh用户\n",
    "eval \"$(ssh-agent -s)\"<br>  \n",
    "ssh-add /data2/ghc/RAG/lin_rany/config/ssh/id_rsa<br>  \n",
    "git config user.name \"lin_rany\"<br>\n",
    "\n",
    "## pip如何使用清华源\n",
    "\n",
    "pip install -i https://pypi.tuna.tsinghua.edu.cn/simple <br><br>\n",
    "pip install -r requirements.txt -i https://pypi.tuna.tsinghua.edu.cn/simple\n",
    "\n",
    "## 快捷从huggingface下载模型和数据集\n",
    "//下载模型\n",
    "huggingface-cli download --resume-download gpt2 --local-dir gpt2<br><br>\n",
    "//下载数据集\n",
    "huggingface-cli download --repo-type dataset --resume-download wikitext --local-dir wikitext<br><br>"
   ]
  },
  {
   "cell_type": "markdown",
   "metadata": {},
   "source": []
  }
 ],
 "metadata": {
  "language_info": {
   "name": "python"
  }
 },
 "nbformat": 4,
 "nbformat_minor": 2
}
